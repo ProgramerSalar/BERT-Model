{
 "cells": [
  {
   "cell_type": "code",
   "execution_count": 2,
   "metadata": {},
   "outputs": [],
   "source": [
    "from __future__ import annotations\n",
    "import math \n",
    "import warnings\n",
    "from dataclasses import dataclass\n",
    "from typing import Dict, Optional, Tuple, Union\n",
    "import numpy as np \n",
    "import tensorflow as tf"
   ]
  },
  {
   "cell_type": "code",
   "execution_count": null,
   "metadata": {},
   "outputs": [],
   "source": [
    "from .activations_tf import get_tf_activation\n",
    "\n",
    "\n",
    "from modeling_tf_outputs import (\n",
    "    TFBaseModelOutputWithPastAndCrossAttentions,\n",
    "    TFBaseModelOutputWithPoolingAndCrossAttentions,\n",
    "    TFCausalLMOutputWithCrossAttentions,\n",
    "    TFMaskedLMOutput,\n",
    "    TFMultipleChoiceModelOutput,\n",
    "    TFNextSentencePredictorOutput,\n",
    "    TFQuestionAnsweringModelOutput,\n",
    "    TFSequenceClassifierOutput,\n",
    "    TFTokenClassifierOutput,\n",
    ")\n",
    "\n",
    "\n",
    "from utils.modeling_tf_utils import (\n",
    "    TFCausalLanguageModelingLoss,\n",
    "    TFMaskedLanguageModelingLoss,\n",
    "    TFModelInputType,\n",
    "    TFMultipleChoiceLoss,\n",
    "    TFNextSentencePredictionLoss,\n",
    "    TFPreTrainedModel,\n",
    "    TFQuestionAnsweringLoss,\n",
    "    TFSequenceClassificationLoss,\n",
    "    TFTokenClassificationLoss,\n",
    "    get_initializer,\n",
    "    keras,\n",
    "    keras_serializable,\n",
    "    unpack_inputs,\n",
    ")\n",
    "\n",
    "\n",
    "\n",
    "\n",
    "\n"
   ]
  }
 ],
 "metadata": {
  "kernelspec": {
   "display_name": "Python 3",
   "language": "python",
   "name": "python3"
  },
  "language_info": {
   "codemirror_mode": {
    "name": "ipython",
    "version": 3
   },
   "file_extension": ".py",
   "mimetype": "text/x-python",
   "name": "python",
   "nbconvert_exporter": "python",
   "pygments_lexer": "ipython3",
   "version": "3.12.0"
  }
 },
 "nbformat": 4,
 "nbformat_minor": 2
}
