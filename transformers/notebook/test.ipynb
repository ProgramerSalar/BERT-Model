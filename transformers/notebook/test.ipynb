{
 "cells": [
  {
   "cell_type": "code",
   "execution_count": 4,
   "metadata": {},
   "outputs": [],
   "source": [
    "import re"
   ]
  },
  {
   "cell_type": "code",
   "execution_count": 5,
   "metadata": {},
   "outputs": [],
   "source": [
    "def validate_case_matches_checkpoint(do_lower_case, init_checkpoint):\n",
    "\n",
    "    \"\"\"Checks whether the cashing config is consistant with the checkpoint name.\"\"\"\n",
    "\n",
    "\n",
    "    # The cashing has to be padded in by the user and there is no explicit check \n",
    "    # as to whether it matches the checkpoint. The cashing information probably \n",
    "    # should have been stored in the bert_config.json file, but it's not so \n",
    "    # we have to heuristically detect it to validate.\n",
    "\n",
    "\n",
    "    if not init_checkpoint:\n",
    "        return \n",
    "    \n",
    "\n",
    "    m = re.match(\"^.*?([A-Za-z0-9_-]+)/bert_model.ckpt\", init_checkpoint)\n",
    "    if m is None:\n",
    "        return \n",
    "    \n",
    "    model_name = m.group(1)\n",
    "\n",
    "    lower_models = [\n",
    "        \"uncased_L-24_H-1024_A-16\", \"uncased_L-12_H-768_A-12\",\n",
    "        \"multilingual_L-12_H-768_A-12\", \"chinese_L-12_H-768_A-12\"\n",
    "    ]\n",
    "\n",
    "    cased_models = [\n",
    "        \"cased_L-12_H-768_A-12\", \"cased_L-24_H-1024_A-16\",\n",
    "        \"multi_cased_L-12_H-768_A-12\"\n",
    "    ]\n",
    "\n",
    "\n",
    "    is_bad_config = False \n",
    "    if model_name in lower_models and not do_lower_case:\n",
    "        is_bad_config = True\n",
    "        actual_flag = \"False\"\n",
    "        case_name = \"lowercased\"\n",
    "        opposite_flag = \"True\"\n",
    "\n",
    "\n",
    "    if model_name in cased_models and do_lower_case:\n",
    "        is_bad_config = True\n",
    "        actual_flag = \"True\"\n",
    "        case_name = \"cased\"\n",
    "        opposite_flag = \"False\"\n",
    "\n",
    "\n",
    "\n",
    "    if is_bad_config:\n",
    "        raise ValueError(\n",
    "            \"You passed in `--do_lower_case=%s` with `--init_checkpoint=%s`. \"\n",
    "            \"However, `%s` seems to be a %s model, so you \"\n",
    "            \"Should pass in `--do_lower_case=%s` so that the fine-tuning matches \"\n",
    "            \"how the model was pre-training. If this error is wrong, Please \"\n",
    "            \"just comment out this check.\" % (actual_flag, init_checkpoint, \n",
    "                                              model_name, case_name, opposite_flag)\n",
    "                                              \n",
    "        )\n",
    "\n",
    "\n"
   ]
  },
  {
   "cell_type": "code",
   "execution_count": 8,
   "metadata": {},
   "outputs": [
    {
     "name": "stdout",
     "output_type": "stream",
     "text": [
      "Checkpoint validation passed.\n"
     ]
    }
   ],
   "source": [
    "do_lower_case = True\n",
    "init_checkpoint = \"path/to/uncased_L-24_H-1024_A-16/bert_model.ckpt\"\n",
    "\n",
    "\n",
    "\n",
    "\n",
    "try:\n",
    "    validate_case_matches_checkpoint(do_lower_case=do_lower_case,\n",
    "                                     init_checkpoint=init_checkpoint)\n",
    "    print(\"Checkpoint validation passed.\")\n",
    "\n",
    "except ValueError as e:\n",
    "    print(e)"
   ]
  }
 ],
 "metadata": {
  "kernelspec": {
   "display_name": "Python 3",
   "language": "python",
   "name": "python3"
  },
  "language_info": {
   "codemirror_mode": {
    "name": "ipython",
    "version": 3
   },
   "file_extension": ".py",
   "mimetype": "text/x-python",
   "name": "python",
   "nbconvert_exporter": "python",
   "pygments_lexer": "ipython3",
   "version": "3.12.0b4"
  }
 },
 "nbformat": 4,
 "nbformat_minor": 2
}
